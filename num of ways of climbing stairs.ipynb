{
 "cells": [
  {
   "attachments": {},
   "cell_type": "markdown",
   "metadata": {},
   "source": [
    "You are climbing a staircase. It takes n steps to reach the top.\n",
    "\n",
    "Each time you can either climb 1 or 2 steps. In how many distinct ways can you climb to the top?\n",
    "\n",
    " \n",
    "\n",
    "Example 1:\n",
    "\n",
    "Input: n = 2\n",
    "Output: 2\n",
    "Explanation: There are two ways to climb to the top.\n",
    "1. 1 step + 1 step\n",
    "2. 2 steps\n",
    "Example 2:\n",
    "\n",
    "Input: n = 3\n",
    "Output: 3\n",
    "Explanation: There are three ways to climb to the top.\n",
    "1. 1 step + 1 step + 1 step\n",
    "2. 1 step + 2 steps\n",
    "3. 2 steps + 1 step"
   ]
  },
  {
   "cell_type": "code",
   "execution_count": null,
   "metadata": {},
   "outputs": [],
   "source": [
    "class Solution:\n",
    "    def climbStairs(self, n: int) -> int:\n",
    "        if n==1 or n==0:\n",
    "            return 1\n",
    "        l=[1]*n\n",
    "        for num in range(1,n):\n",
    "            l[num]=l[num-1]+l[num-2]\n",
    "\n",
    "        return l[-1]"
   ]
  },
  {
   "cell_type": "code",
   "execution_count": null,
   "metadata": {},
   "outputs": [],
   "source": [
    "#by just using traditional swapping method, since we knew that f(n)=f(n-1)+f(n-2)\n",
    "class Solution:\n",
    "    def climbStairs(self, n: int) -> int:\n",
    "        if n==1 or n==0:\n",
    "            return 1\n",
    "        prev=1\n",
    "        prev2=1\n",
    "\n",
    "        for num in range(2,n+1):\n",
    "            total=prev+prev2\n",
    "            temp=prev2\n",
    "            prev2=total\n",
    "            prev=temp\n",
    "        return total\n"
   ]
  }
 ],
 "metadata": {
  "kernelspec": {
   "display_name": "Python 3",
   "language": "python",
   "name": "python3"
  },
  "language_info": {
   "name": "python",
   "version": "3.10.5"
  },
  "orig_nbformat": 4
 },
 "nbformat": 4,
 "nbformat_minor": 2
}
