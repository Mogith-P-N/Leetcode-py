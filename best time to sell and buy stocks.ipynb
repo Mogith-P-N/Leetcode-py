{
 "cells": [
  {
   "attachments": {},
   "cell_type": "markdown",
   "metadata": {},
   "source": [
    "You are given an integer array prices where prices[i] is the price of a given stock on the ith day.\n",
    "\n",
    "On each day, you may decide to buy and/or sell the stock. You can only hold at most one share of the stock at any time. However, you can buy it then immediately sell it on the same day.\n",
    "\n",
    "Find and return the maximum profit you can achieve.\n",
    "\n",
    "Input: prices = [7,1,5,3,6,4]\n",
    "Output: 7\n",
    "Explanation: Buy on day 2 (price = 1) and sell on day 3 (price = 5), profit = 5-1 = 4.\n",
    "Then buy on day 4 (price = 3) and sell on day 5 (price = 6), profit = 6-3 = 3.\n",
    "Total profit is 4 + 3 = 7."
   ]
  },
  {
   "cell_type": "code",
   "execution_count": null,
   "metadata": {},
   "outputs": [],
   "source": [
    "#solution \n",
    "class Solution:\n",
    "    def maxProfit(self, prices: List[int]) -> int: #class will get only list of prices in integer format\n",
    "        ans=0\n",
    "        minimumprice=prices[0] # declaring the first index value as min \n",
    "        for i in range(1,len(prices)): #iterating from 1 to end of value \n",
    "            currentmaxprofit=prices[i]-minimumprice #updating current profit as current value - minimum price\n",
    "            if (currentmaxprofit > ans): #updating ans if profit is greater than ans\n",
    "                ans=currentmaxprofit \n",
    "            minimumprice=min(minimumprice,prices[i]) #updating minimum value after once loop...\n",
    "        return ans"
   ]
  }
 ],
 "metadata": {
  "kernelspec": {
   "display_name": "Python 3",
   "language": "python",
   "name": "python3"
  },
  "language_info": {
   "name": "python",
   "version": "3.10.5"
  },
  "orig_nbformat": 4
 },
 "nbformat": 4,
 "nbformat_minor": 2
}
