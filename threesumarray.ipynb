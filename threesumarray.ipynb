{
 "cells": [
  {
   "attachments": {},
   "cell_type": "markdown",
   "metadata": {},
   "source": [
    "Given an integer array nums, return all the triplets [nums[i], nums[j], nums[k]] such that i != j, i != k, and j != k, and nums[i] + nums[j] + nums[k] == 0.\n",
    "\n",
    "Notice that the solution set must not contain duplicate triplets.\n",
    "\n",
    " \n",
    "\n",
    "Example 1:\n",
    "\n",
    "Input: nums = [-1,0,1,2,-1,-4]\n",
    "Output: [[-1,-1,2],[-1,0,1]]\n",
    "Explanation: \n",
    "nums[0] + nums[1] + nums[2] = (-1) + 0 + 1 = 0.\n",
    "nums[1] + nums[2] + nums[4] = 0 + 1 + (-1) = 0.\n",
    "nums[0] + nums[3] + nums[4] = (-1) + 2 + (-1) = 0.\n",
    "The distinct triplets are [-1,0,1] and [-1,-1,2].\n",
    "Notice that the order of the output and the order of the triplets does not matter.\n",
    "Example 2:\n",
    "\n",
    "Input: nums = [0,1,1]\n",
    "Output: []\n",
    "Explanation: The only possible triplet does not sum up to 0.\n",
    "Example 3:\n",
    "\n",
    "Input: nums = [0,0,0]\n",
    "Output: [[0,0,0]]\n",
    "Explanation: The only possible triplet sums up to 0."
   ]
  },
  {
   "cell_type": "code",
   "execution_count": null,
   "metadata": {},
   "outputs": [],
   "source": [
    "class Solution:\n",
    "    def threeSum(self, nums: List[int]) -> List[List[int]]:\n",
    "        nums.sort() #sorting the array to use 2 pointer method \n",
    "        lenlist=len(nums) \n",
    "        triplets=[]\n",
    "        if lenlist<3: #when the list contains less than 3 loop will end\n",
    "            return []\n",
    "        for i in range(lenlist-2):  \n",
    "            if i>0 and nums[i]==nums[i-1]: #if the next element is same then the loop will skip\n",
    "                continue\n",
    "            f=i+1  #declaring left most variable as f\n",
    "            b=lenlist-1 #declaring right most variable as b\n",
    "            while f<b: #need to make sure f and b not overlaps\n",
    "                currsum=nums[i]+nums[f]+nums[b]\n",
    "                if currsum==0: #when condition mets the value will be appended along with solution\n",
    "                    triplets.append([nums[i],nums[f],nums[b]])\n",
    "                    f+=1\n",
    "                    b-=1\n",
    "                    while nums[f]==nums[f-1] and f<b: #don't use \"if\" as it will run once but when we have multiple conseccutive occurences it will append duplicates as well. So go with \"while\"\n",
    "                        f+=1\n",
    "                    while nums[b]==nums[b+1] and f<b:\n",
    "                        b-=1\n",
    "                elif currsum<0: #as per sorted array when target value is less we increment it from left \n",
    "                    f+=1\n",
    "                elif currsum>0: #as per the sorted array when target value is more we decrement it from right\n",
    "                    b-=1\n",
    "        return (triplets)\n",
    "                \n"
   ]
  }
 ],
 "metadata": {
  "language_info": {
   "name": "python"
  },
  "orig_nbformat": 4
 },
 "nbformat": 4,
 "nbformat_minor": 2
}
