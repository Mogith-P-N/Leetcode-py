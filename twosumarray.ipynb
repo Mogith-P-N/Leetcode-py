{
 "cells": [
  {
   "attachments": {},
   "cell_type": "markdown",
   "metadata": {},
   "source": [
    "Given a 1-indexed array of integers numbers that is already sorted in non-decreasing order, find two numbers such that they add up to a specific target number. Let these two numbers be numbers[index1] and numbers[index2] where 1 <= index1 < index2 <= numbers.length.\n",
    "\n",
    "Return the indices of the two numbers, index1 and index2, added by one as an integer array [index1, index2] of length 2.\n",
    "\n",
    "The tests are generated such that there is exactly one solution. You may not use the same element twice.\n",
    "\n",
    "Your solution must use only constant extra space.\n",
    "\n",
    " \n",
    "\n",
    "Example 1:\n",
    "\n",
    "Input: numbers = [2,7,11,15], target = 9\n",
    "Output: [1,2]\n",
    "Explanation: The sum of 2 and 7 is 9. Therefore, index1 = 1, index2 = 2. We return [1, 2].\n",
    "Example 2:\n",
    "\n",
    "Input: numbers = [2,3,4], target = 6\n",
    "Output: [1,3]\n",
    "Explanation: The sum of 2 and 4 is 6. Therefore index1 = 1, index2 = 3. We return [1, 3].\n",
    "Example 3:\n",
    "\n",
    "Input: numbers = [-1,0], target = -1\n",
    "Output: [1,2]\n",
    "Explanation: The sum of -1 and 0 is -1. Therefore index1 = 1, index2 = 2. We return [1, 2]."
   ]
  },
  {
   "cell_type": "code",
   "execution_count": null,
   "metadata": {},
   "outputs": [],
   "source": [
    "#approach-1 with nested loops\n",
    "class Solution:\n",
    "    def twoSum(self, numbers: List[int], target: int) -> List[int]:\n",
    "        counter=0\n",
    "        for i in range(len(numbers)):\n",
    "                for j in range(i+1,len(numbers)):\n",
    "                    if (numbers[i]+numbers[j])==target:\n",
    "                        return(i+1,j+1)\n",
    "                        counter=1\n",
    "                        break\n",
    "                if counter==1:\n",
    "                    break"
   ]
  },
  {
   "cell_type": "code",
   "execution_count": null,
   "metadata": {},
   "outputs": [],
   "source": [
    "#using 2 pointer method --> time complexity = O(n)\n",
    "class Solution:\n",
    "    def twoSum(self, numbers: List[int], k: int) -> List[int]:\n",
    "        f=0  #ppointer 1 starts from front\n",
    "        b=len(numbers)-1 #pointer 2 starts from last \n",
    "        ans=[]\n",
    "        while(f<b):\n",
    "            ksum=numbers[f]+numbers[b] #if sum of f and b is less than target value then we need to increment from front\n",
    "            if ksum<k:\n",
    "               f+=1\n",
    "            elif ksum>k: #if sum of f and b is greater than target traverse from back since even if we increment the f we won't be anywhere near to solution logically\n",
    "                b-=1\n",
    "            else:\n",
    "                ans.append(f+1)\n",
    "                ans.append(b+1)\n",
    "                break\n",
    "        return(ans)\n"
   ]
  }
 ],
 "metadata": {
  "kernelspec": {
   "display_name": "Python 3",
   "language": "python",
   "name": "python3"
  },
  "language_info": {
   "name": "python",
   "version": "3.10.5"
  },
  "orig_nbformat": 4
 },
 "nbformat": 4,
 "nbformat_minor": 2
}
